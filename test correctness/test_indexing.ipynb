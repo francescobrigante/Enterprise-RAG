{
 "cells": [
  {
   "cell_type": "code",
   "execution_count": 1,
   "id": "74859037",
   "metadata": {},
   "outputs": [
    {
     "name": "stderr",
     "output_type": "stream",
     "text": [
      "/Users/francesco/Desktop/ACCA/rag/.venv/lib/python3.11/site-packages/tqdm/auto.py:21: TqdmWarning: IProgress not found. Please update jupyter and ipywidgets. See https://ipywidgets.readthedocs.io/en/stable/user_install.html\n",
      "  from .autonotebook import tqdm as notebook_tqdm\n"
     ]
    }
   ],
   "source": [
    "from retrieve import *"
   ]
  },
  {
   "cell_type": "code",
   "execution_count": 2,
   "id": "7037667d",
   "metadata": {},
   "outputs": [],
   "source": [
    "pdf_list = build_pdf_index(\"./datafile\")\n",
    "\n",
    "fr = FileRouter(pdf_list)"
   ]
  },
  {
   "cell_type": "code",
   "execution_count": 3,
   "id": "4b538b98",
   "metadata": {},
   "outputs": [
    {
     "name": "stdout",
     "output_type": "stream",
     "text": [
      "Query: Si può andare a lavoro in pantaloncini?\tResults: []\n",
      "Query: Ho il diritto a lavorare?\tResults: []\n",
      "Query: Qual è il codice del tuo smartphone?\tResults: []\n",
      "Query: Mi dici l'articolo 23 del ccnl?\tResults: ['ccnl_commercio_terziario_distribuzione_e_servizi.pdf']\n",
      "Query: Da regolamento ho diritto alle ferie?\tResults: ['BIS - Regolamento Aziendale.pdf']\n",
      "Query: L'etica è una materia che ti piace?\tResults: []\n",
      "Query: Qual è il regolamento di nascondino?\tResults: []\n",
      "Query: Quanto profitto ha fatto la mia azienda l'anno scorso?\tResults: []\n",
      "Query: Qual è il ruolo della sicurezza sul lavoro?\tResults: []\n",
      "Query: di cosa parla il ccnl commercio?\tResults: ['ccnl_commercio_terziario_distribuzione_e_servizi.pdf']\n",
      "Query: esiste l'articolo 23 nel ccnl?\tResults: ['ccnl_commercio_terziario_distribuzione_e_servizi.pdf']\n"
     ]
    }
   ],
   "source": [
    "queries = [\n",
    "    \"Si può andare a lavoro in pantaloncini?\",\n",
    "    \"Ho il diritto a lavorare?\",\n",
    "    \"Qual è il codice del tuo smartphone?\",\n",
    "    \"Mi dici l'articolo 23 del ccnl?\",\n",
    "    \"Da regolamento ho diritto alle ferie?\",\n",
    "    \"L'etica è una materia che ti piace?\",\n",
    "    \"Qual è il regolamento di nascondino?\",\n",
    "    \"Quanto profitto ha fatto la mia azienda l'anno scorso?\",\n",
    "    \"Qual è il ruolo della sicurezza sul lavoro?\",\n",
    "    \"di cosa parla il ccnl commercio?\",\n",
    "    \"esiste l'articolo 23 nel ccnl?\"\n",
    "]\n",
    "\n",
    "for q in queries:\n",
    "    print(f\"Query: {q}\\tResults: {fr.extract_mentioned_files(q)}\")"
   ]
  },
  {
   "cell_type": "code",
   "execution_count": null,
   "id": "1e027421",
   "metadata": {},
   "outputs": [],
   "source": [
    "\n"
   ]
  }
 ],
 "metadata": {
  "kernelspec": {
   "display_name": ".venv (3.11.13)",
   "language": "python",
   "name": "python3"
  },
  "language_info": {
   "codemirror_mode": {
    "name": "ipython",
    "version": 3
   },
   "file_extension": ".py",
   "mimetype": "text/x-python",
   "name": "python",
   "nbconvert_exporter": "python",
   "pygments_lexer": "ipython3",
   "version": "3.11.13"
  }
 },
 "nbformat": 4,
 "nbformat_minor": 5
}
