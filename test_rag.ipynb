{
 "cells": [
  {
   "cell_type": "markdown",
   "id": "b94d849c",
   "metadata": {},
   "source": [
    "# RAG Testing Notebook\n",
    "\n",
    "This notebook tests the RAG system with different queries, cleaning output to show only question, answer and useful medatada to understand internal routing"
   ]
  },
  {
   "cell_type": "code",
   "execution_count": 1,
   "id": "b82318fe",
   "metadata": {},
   "outputs": [
    {
     "name": "stderr",
     "output_type": "stream",
     "text": [
      "/Users/francesco/Desktop/ACCA/rag/.venv/lib/python3.13/site-packages/milvus_lite/__init__.py:15: UserWarning: pkg_resources is deprecated as an API. See https://setuptools.pypa.io/en/latest/pkg_resources.html. The pkg_resources package is slated for removal as early as 2025-11-30. Refrain from using this package or pin to Setuptools<81.\n",
      "  from pkg_resources import DistributionNotFound, get_distribution\n"
     ]
    }
   ],
   "source": [
    "import os\n",
    "import sys\n",
    "from io import StringIO\n",
    "\n",
    "# Disable warnings on macOS\n",
    "os.environ['TOKENIZERS_PARALLELISM'] = 'false'\n",
    "os.environ['TF_CPP_MIN_LOG_LEVEL'] = '3'\n",
    "os.environ['GRPC_VERBOSITY'] = 'ERROR'\n",
    "os.environ['GRPC_TRACE'] = ''\n",
    "\n",
    "from rag import RAGWrapper\n",
    "\n",
    "# Initialize RAG wrapper\n",
    "rag = RAGWrapper()"
   ]
  },
  {
   "cell_type": "code",
   "execution_count": null,
   "id": "55dcab76",
   "metadata": {},
   "outputs": [],
   "source": [
    "def test_query(question: str):\n",
    "    \n",
    "    # Capture stdout to filter it\n",
    "    old_stdout = sys.stdout\n",
    "    captured_output = StringIO()\n",
    "    sys.stdout = captured_output\n",
    "    \n",
    "    try:\n",
    "        response = rag.ask(question, clean_response=True)\n",
    "    finally:\n",
    "        # Restore stdout\n",
    "        sys.stdout = old_stdout\n",
    "    \n",
    "    # Get captured output\n",
    "    output = captured_output.getvalue()\n",
    "    \n",
    "    # Print routing information\n",
    "    for line in output.split('\\n'):\n",
    "        if 'Routing query to files:' in line or 'Filtering by titles:' in line:\n",
    "            print(line)\n",
    "    \n",
    "    # Print clean Q&A\n",
    "    print(f\"\\nDomanda: {question}\")\n",
    "    print(f\"\\nRisposta: {response['answer']}\")"
   ]
  },
  {
   "cell_type": "markdown",
   "id": "141483e2",
   "metadata": {},
   "source": [
    "## Test Queries"
   ]
  },
  {
   "cell_type": "code",
   "execution_count": 3,
   "id": "e56f924c",
   "metadata": {},
   "outputs": [
    {
     "name": "stdout",
     "output_type": "stream",
     "text": [
      "\n",
      "Domanda: Quali sono i doveri del lavoratore?\n",
      "\n",
      "Risposta: **Doveri del lavoratore**\n",
      "\n",
      "1. **Diligenza nell’esecuzione della prestazione**  \n",
      "   - Il lavoratore deve svolgere la propria attività con la diligenza richiesta dalla natura della prestazione e dall’interesse dell’impresa, rispettando i criteri qualitativi e quantitativi stabiliti.  \n",
      "   - La mancanza di diligenza può comportare sanzioni disciplinari, fino al licenziamento, e l’obbligo di risarcire l’azienda per eventuali danni contrattuali.\n",
      "\n",
      "2. **Osservanza delle norme di sicurezza e salute**  \n",
      "   - È tenuto a rispettare le disposizioni del D.Lgs. 9 aprile 2008 n. 81, a cui il datore di lavoro (o l’utilizzatore, nel caso di somministrazione) fornisce informazione, formazione e addestramento sull’uso delle attrezzature.  \n",
      "   - Deve collaborare con le misure di prevenzione e protezione adottate dall’azienda.\n",
      "\n",
      "3. **Obbligo di informazione e comunicazione**  \n",
      "   - Quando il lavoratore è adibito a mansioni diverse da quelle contrattuali (livello superiore o inferiore), l’utilizzatore deve comunicarlo per iscritto al somministratore e al lavoratore stesso.  \n",
      "   - Il lavoratore, in caso di lavoro a distanza, deve firmare la dichiarazione di ricezione delle informative relative a sicurezza, igiene e protezione dei dati.\n",
      "\n",
      "4. **Rispetto delle istruzioni e della gerarchia**  \n",
      "   - Deve seguire le istruzioni impartite dal datore di lavoro o da chi è delegato alla sua formazione e gestione.  \n",
      "   - Per gli apprendisti, questo obbligo è esplicitamente previsto (art. 65), con l’ulteriore impegno di apprendere con massimo impegno.\n",
      "\n",
      "5. **Partecipazione alla formazione**  \n",
      "   - È tenuto a frequentare con assiduità i corsi di formazione professionale (per gli apprendisti) e, più in generale, a mantenere aggiornate le proprie competenze in relazione alle esigenze operative dell’impresa.\n",
      "\n",
      "6. **Osservanza delle norme disciplinari**  \n",
      "   - Deve rispettare le norme disciplinari generali previste dal CCNL e i regolamenti interni dell’azienda, purché non contrastino con le disposizioni contrattuali e di legge.\n",
      "\n",
      "7. **Responsabilità per danni**  \n",
      "   - Il lavoratore è responsabile per i danni arrecati a terzi o all’azienda nello svolgimento delle proprie mansioni, salvo che non siano riconducibili a cause di forza maggiore o a difetti degli strumenti forniti dal datore di lavoro.\n",
      "\n",
      "8. **Collaborazione con il potere disciplinare**  \n",
      "   - Deve fornire, se richiesto, gli elementi necessari per l’esercizio del potere disciplinare da parte del datore di lavoro o del somministratore, contribuendo così al corretto svolgimento delle verifiche previste dalla legge (art. 7 Legge n. 300/1970).\n",
      "\n",
      "In sintesi, il lavoratore è tenuto a svolgere la propria attività con diligenza, a rispettare le norme di sicurezza, a seguire le istruzioni e i percorsi formativi indicati, a osservare le regole disciplinari aziendali e a rispondere dei danni eventualmente causati nello svolgimento del lavoro.\n"
     ]
    }
   ],
   "source": [
    "test_query(\"Quali sono i doveri del lavoratore?\")"
   ]
  },
  {
   "cell_type": "markdown",
   "id": "44f62787",
   "metadata": {},
   "source": [
    "### File and Title routing"
   ]
  },
  {
   "cell_type": "code",
   "execution_count": 20,
   "id": "92e5c5ce",
   "metadata": {},
   "outputs": [
    {
     "name": "stdout",
     "output_type": "stream",
     "text": [
      "==================Routing query to files: ccnl_commercio_terziario_distribuzione_e_servizi.pdf\n",
      "Filtering by titles: Art.23 - Conservazione del posto di lavoro\n",
      "\n",
      "Domanda: Cosa dice l'articolo 23 del ccnl?\n",
      "\n",
      "Risposta: L’articolo 23 del CCNL prevede che, durante il periodo di congedo, il lavoratore mantenga il proprio posto di lavoro, ma non abbia diritto alla retribuzione né alla decorrenza dell’anzianità per alcun istituto. Inoltre, è vietato svolgere qualsiasi attività lavorativa durante tale periodo.\n"
     ]
    }
   ],
   "source": [
    "test_query(\"Cosa dice l'articolo 23 del ccnl?\")"
   ]
  },
  {
   "cell_type": "markdown",
   "id": "1f695457",
   "metadata": {},
   "source": [
    "### File and routing and itelligent Title routing"
   ]
  },
  {
   "cell_type": "code",
   "execution_count": 4,
   "id": "1f8d459a",
   "metadata": {},
   "outputs": [
    {
     "name": "stdout",
     "output_type": "stream",
     "text": [
      "==================Routing query to files: ccnl_commercio_terziario_distribuzione_e_servizi.pdf\n",
      "Filtering by titles: Art.3 - Mansioni lavorative e passaggi di livello\n",
      "\n",
      "Domanda: Cosa comporta un passaggio di livello in azienda secondo il ccnl?\n",
      "\n",
      "Risposta: Un passaggio di livello, così come disciplinato dal CCNL di riferimento, comporta le seguenti conseguenze per il lavoratore:\n",
      "\n",
      "1. **Retribuzione contrattuale**  \n",
      "   - Il dipendente ha diritto a percepire la retribuzione prevista dal contratto collettivo per il nuovo livello di inquadramento.  \n",
      "   - Qualora il dipendente percepisca già elementi retributivi (es. indennità, premi) di importo superiore rispetto all’aumento del minimo tabellare previsto per il nuovo livello, tali eccedenze possono essere “assorbite” fino a concorrenza dei nuovi minimi tabellari del livello superiore.  \n",
      "   - Gli **scatti di merito** non sono assorbibili: rimangono invariati e continuano a maturare secondo le norme vigenti.\n",
      "\n",
      "2. **Compensazione temporanea per mansioni superiori**  \n",
      "   - Se il lavoratore è adibito temporaneamente a mansioni appartenenti a un livello superiore per almeno **16 giorni nel mese**, la retribuzione mensile deve includere una quota non inferiore alla differenza tra il trattamento economico attuale e il minimo tabellare del livello superiore.  \n",
      "\n",
      "3. **Durata e definitività dell’assegnazione**  \n",
      "   - L’assegnazione a mansioni superiori diventa **definitiva** se il dipendente le svolge in maniera continuativa per **sei mesi**.  \n",
      "   - In tal caso, il passaggio di livello si consolida e il lavoratore mantiene il nuovo trattamento retributivo anche se la motivazione iniziale era sostitutiva (es. assenza di un altro dipendente).\n",
      "\n",
      "4. **Limiti e condizioni**  \n",
      "   - Il passaggio di livello non può essere utilizzato per “assorbire” gli scatti di merito.  \n",
      "   - Eventuali accordi individuali di modifica delle mansioni, della categoria legale, del livello di inquadramento e della relativa retribuzione devono essere stipulati nel rispetto delle disposizioni del CCNL e possono essere assistiti da rappresentanti sindacali, avvocati o consulenti del lavoro.\n",
      "\n",
      "In sintesi, il passaggio di livello comporta l’adeguamento della retribuzione al minimo tabellare del nuovo livello, la possibilità di assorbire eventuali componenti retributive eccedenti fino a quel minimo, la non assimilabilità degli scatti di merito e, qualora le mansioni superiori siano svolte per un periodo continuativo di sei mesi, la trasformazione dell’assegnazione temporanea in una promozione definitiva.\n"
     ]
    }
   ],
   "source": [
    "test_query(\"Cosa comporta un passaggio di livello in azienda secondo il ccnl?\")"
   ]
  },
  {
   "cell_type": "code",
   "execution_count": null,
   "id": "e173c58d",
   "metadata": {},
   "outputs": [
    {
     "name": "stdout",
     "output_type": "stream",
     "text": [
      "==================Routing query to files: ccnl_commercio_terziario_distribuzione_e_servizi.pdf\n",
      "Filtering by titles: Art.33 – Assenze\n",
      "\n",
      "Domanda: Cosa dice il CCNL sulle assenze?\n",
      "\n",
      "Risposta: Il CCNL disciplina le assenze nel seguente modo:\n",
      "\n",
      "1. **Comunicazione tempestiva** – Qualora si verifichi un grave impedimento, il dipendente è tenuto a informare immediatamente l’azienda, affinché sia possibile organizzare la sostituzione e garantire la continuità dell’attività.\n",
      "\n",
      "2. **Documentazione** – L’assenza deve essere giustificata entro il giorno successivo all’evento, mediante certificazione o altra documentazione ritenuta idonea.\n",
      "\n",
      "3. **Conseguenze per l’inosservanza** – Il mancato rispetto di quanto previsto al punto 1 comporta l’applicazione di provvedimenti disciplinari secondo l’art. 49. Inoltre, il datore di lavoro può trattenere, ai sensi dell’art. 24, le quote giornaliere della normale retribuzione corrispondenti alle giornate di assenza ingiustificata.\n"
     ]
    }
   ],
   "source": [
    "test_query(\"Cosa dice il CCNL sulle assenze?\")"
   ]
  },
  {
   "cell_type": "code",
   "execution_count": 5,
   "id": "05d627b7",
   "metadata": {},
   "outputs": [
    {
     "name": "stdout",
     "output_type": "stream",
     "text": [
      "\n",
      "Domanda: Se dovessi assentarmi dal lavoro, posso comunicarlo a voce il giorno stesso?\n",
      "\n",
      "Risposta: Gentile dipendente,\n",
      "\n",
      "per poter assentarsi dal lavoro è necessario avvertire i propri preposti **prima dell’inizio del normale orario di lavoro** del giorno in cui si verifica l’assenza. La comunicazione può avvenire per telefono, e‑mail o fax (o tramite un’interposta persona), come previsto dall’articolo 34 relativo alla malattia e all’infortunio non sul lavoro.  \n",
      "\n",
      "Solo in casi di giustificato e documentato impedimento o di forza maggiore, che non consentono la comunicazione preventiva, è ammessa una segnalazione successiva, ma dovrà comunque essere fornita la giustificazione (certificato medico) entro il secondo giorno di assenza.  \n",
      "\n",
      "Pertanto, una semplice comunicazione verbale **il giorno stesso, dopo l’inizio dell’orario di lavoro**, non è conforme alle disposizioni aziendali, salvo che ricorrano le ipotesi di forza maggiore o impedimento giustificato. In tali situazioni è comunque obbligatorio fornire la documentazione richiesta entro i termini indicati.\n"
     ]
    }
   ],
   "source": [
    "test_query(\"Se dovessi assentarmi dal lavoro, posso comunicarlo a voce il giorno stesso?\")"
   ]
  },
  {
   "cell_type": "markdown",
   "id": "e70f8aad",
   "metadata": {},
   "source": [
    "### Test File Routing vs Not Routing"
   ]
  },
  {
   "cell_type": "code",
   "execution_count": 6,
   "id": "9ba34755",
   "metadata": {},
   "outputs": [
    {
     "name": "stdout",
     "output_type": "stream",
     "text": [
      "==================Routing query to files: BIS - Regolamento Aziendale.pdf\n",
      "Filtering by titles: 16. Divieto di fumo e bevande alcoliche\n",
      "\n",
      "Domanda: Si può fumare secondo il regolamento aziendale?\n",
      "\n",
      "Risposta: No. Il regolamento aziendale prevede il divieto assoluto di fumo all’interno di tutti i locali aziendali; è consentito fumare esclusivamente all’esterno dei locali.\n"
     ]
    }
   ],
   "source": [
    "test_query(\"Si può fumare secondo il regolamento aziendale?\")"
   ]
  },
  {
   "cell_type": "code",
   "execution_count": 7,
   "id": "2fbf41a4",
   "metadata": {},
   "outputs": [
    {
     "name": "stdout",
     "output_type": "stream",
     "text": [
      "\n",
      "Domanda: Esistono spazi all'interno per fumare?\n",
      "\n",
      "Risposta: Non vi sono spazi destinati al fumo all’interno dei locali aziendali. Il divieto di fumo è assoluto in tutti gli ambienti interni dell’azienda; è consentito fumare esclusivamente all’esterno.\n"
     ]
    }
   ],
   "source": [
    "test_query(\"Esistono spazi all'interno per fumare?\")"
   ]
  },
  {
   "cell_type": "markdown",
   "id": "a8ba2d1d",
   "metadata": {},
   "source": [
    "## Out-of-Domain Queries"
   ]
  },
  {
   "cell_type": "code",
   "execution_count": 8,
   "id": "556d7b4e",
   "metadata": {},
   "outputs": [
    {
     "name": "stdout",
     "output_type": "stream",
     "text": [
      "\n",
      "Domanda: Chi era Albert Einstein?\n",
      "\n",
      "Risposta: L'argomento della domanda non è pertinente.\n"
     ]
    }
   ],
   "source": [
    "test_query(\"Chi era Albert Einstein?\")"
   ]
  },
  {
   "cell_type": "code",
   "execution_count": 9,
   "id": "971c7d3b",
   "metadata": {},
   "outputs": [
    {
     "name": "stdout",
     "output_type": "stream",
     "text": [
      "\n",
      "Domanda: Potresti spiegarmi la differenza tra srl ed spa?\n",
      "\n",
      "Risposta: L'argomento della domanda non è pertinente.\n"
     ]
    }
   ],
   "source": [
    "test_query(\"Potresti spiegarmi la differenza tra srl ed spa?\")"
   ]
  },
  {
   "cell_type": "code",
   "execution_count": 10,
   "id": "ecd1e50e",
   "metadata": {},
   "outputs": [
    {
     "name": "stdout",
     "output_type": "stream",
     "text": [
      "\n",
      "Domanda: Quali sono gli indirizzi IBAN dei conti presenti in tutti i documenti?\n",
      "\n",
      "Risposta: L'argomento della domanda non è pertinente.\n"
     ]
    }
   ],
   "source": [
    "test_query(\"Quali sono gli indirizzi IBAN dei conti presenti in tutti i documenti?\")"
   ]
  }
 ],
 "metadata": {
  "kernelspec": {
   "display_name": ".venv (3.13.5)",
   "language": "python",
   "name": "python3"
  },
  "language_info": {
   "codemirror_mode": {
    "name": "ipython",
    "version": 3
   },
   "file_extension": ".py",
   "mimetype": "text/x-python",
   "name": "python",
   "nbconvert_exporter": "python",
   "pygments_lexer": "ipython3",
   "version": "3.13.5"
  }
 },
 "nbformat": 4,
 "nbformat_minor": 5
}
